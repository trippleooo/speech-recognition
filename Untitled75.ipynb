{
  "nbformat": 4,
  "nbformat_minor": 0,
  "metadata": {
    "colab": {
      "provenance": [],
      "authorship_tag": "ABX9TyO71ShvSvGgv1sjmk5c8x1O",
      "include_colab_link": true
    },
    "kernelspec": {
      "name": "python3",
      "display_name": "Python 3"
    },
    "language_info": {
      "name": "python"
    }
  },
  "cells": [
    {
      "cell_type": "markdown",
      "metadata": {
        "id": "view-in-github",
        "colab_type": "text"
      },
      "source": [
        "<a href=\"https://colab.research.google.com/github/trippleooo/speech-recognition/blob/main/Untitled75.ipynb\" target=\"_parent\"><img src=\"https://colab.research.google.com/assets/colab-badge.svg\" alt=\"Open In Colab\"/></a>"
      ]
    },
    {
      "cell_type": "code",
      "source": [
        "code = '''\n",
        "import streamlit as st\n",
        "import speech_recognition as sr\n",
        "import os\n",
        "\n",
        "# Available languages\n",
        "LANGUAGES = {\n",
        "    \"English (US)\": \"en-US\",\n",
        "    \"French\": \"fr-FR\",\n",
        "    \"Swahili\": \"sw-KE\",\n",
        "    \"Spanish\": \"es-ES\",\n",
        "    \"German\": \"de-DE\"\n",
        "}\n",
        "\n",
        "# Available APIs\n",
        "APIS = [\"Google\", \"Sphinx\"]\n",
        "\n",
        "# Function to transcribe speech\n",
        "def transcribe_speech(api_choice, language):\n",
        "    recognizer = sr.Recognizer()\n",
        "    try:\n",
        "        with sr.Microphone() as source:\n",
        "            st.info(\"Speak now...\")\n",
        "            audio = recognizer.listen(source, timeout=5, phrase_time_limit=10)\n",
        "            st.info(\"Transcribing...\")\n",
        "\n",
        "            if api_choice == \"Google\":\n",
        "                return recognizer.recognize_google(audio, language=language)\n",
        "            elif api_choice == \"Sphinx\":\n",
        "                return recognizer.recognize_sphinx(audio, language=language)\n",
        "            else:\n",
        "                return \"Unsupported API selected.\"\n",
        "\n",
        "    except sr.WaitTimeoutError:\n",
        "        return \"No speech detected.\"\n",
        "    except sr.UnknownValueError:\n",
        "        return \"Could not understand audio.\"\n",
        "    except sr.RequestError as e:\n",
        "        return f\"API Error: {e}\"\n",
        "    except Exception as e:\n",
        "        return f\"Error: {e}\"\n",
        "\n",
        "# Function to save text\n",
        "def save_transcription(text):\n",
        "    if text:\n",
        "        with open(\"transcription.txt\", \"a\") as f:\n",
        "            f.write(text + \"\\\\n\")\n",
        "        st.success(\"Transcription saved.\")\n",
        "\n",
        "# Main app logic\n",
        "def main():\n",
        "    st.set_page_config(page_title=\"Speech Recognition App\", layout=\"centered\")\n",
        "    st.title(\"Speech Recognition App\")\n",
        "    st.markdown(\"Speak into the microphone and convert your speech to text.\")\n",
        "\n",
        "    language = st.selectbox(\"Select Language\", list(LANGUAGES.keys()))\n",
        "    lang_code = LANGUAGES[language]\n",
        "\n",
        "    api_choice = st.radio(\"Choose Speech Recognition API\", APIS)\n",
        "\n",
        "    if st.button(\"Start Recording\"):\n",
        "        text = transcribe_speech(api_choice, lang_code)\n",
        "        st.write(\"**Transcription:**\", text)\n",
        "\n",
        "        if text and \"Sorry\" not in text:\n",
        "            if st.checkbox(\"Save this transcription?\"):\n",
        "                save_transcription(text)\n",
        "\n",
        "    if os.path.exists(\"transcription.txt\"):\n",
        "        with open(\"transcription.txt\", \"r\") as f:\n",
        "            st.text_area(\"📄 Saved Transcriptions\", f.read(), height=200)\n",
        "\n",
        "if __name__ == \"__main__\":\n",
        "    main()\n",
        "'''\n",
        "with open(\"speech_app.py\", \"w\") as file:\n",
        "    file.write(code)\n",
        "print(\" File created: speech_app.py\")\n"
      ],
      "metadata": {
        "colab": {
          "base_uri": "https://localhost:8080/"
        },
        "id": "g74vgRY9Pq5O",
        "outputId": "f244de9d-eb37-402d-b66a-ea0b0d38ed33"
      },
      "execution_count": 3,
      "outputs": [
        {
          "output_type": "stream",
          "name": "stdout",
          "text": [
            " File created: speech_app.py\n"
          ]
        }
      ]
    },
    {
      "cell_type": "code",
      "source": [
        "with open(\"requirements.txt\", \"w\") as f:\n",
        "    f.write(\"streamlit\\\\nSpeechRecognition\\\\nPyAudio\\\\npocketsphinx\")\n"
      ],
      "metadata": {
        "id": "oj_yKeROQQCo"
      },
      "execution_count": 4,
      "outputs": []
    },
    {
      "cell_type": "code",
      "source": [],
      "metadata": {
        "id": "CMUQXSL9QQkY"
      },
      "execution_count": null,
      "outputs": []
    }
  ]
}